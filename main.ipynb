{
 "cells": [
  {
   "cell_type": "code",
   "execution_count": null,
   "metadata": {},
   "outputs": [],
   "source": [
    "#install the deeppavlov library by running\n",
    "!pip install deeppavlov"
   ]
  },
  {
   "cell_type": "code",
   "execution_count": 1,
   "metadata": {},
   "outputs": [
    {
     "name": "stdout",
     "output_type": "stream",
     "text": [
      "cuda visible devices = ''\r\n"
     ]
    }
   ],
   "source": [
    "import copy\n",
    "from pprint import pprint\n",
    "import deeppavlov\n",
    "from deeppavlov.dataset_readers.dstc2_reader import DSTC2DatasetReader\n",
    "from deeppavlov.dataset_iterators.dialog_iterator import DialogDatasetIterator\n",
    "from deeppavlov import build_model, deep_download\n",
    "\n",
    "!export CUDA_VISIBLE_DEVICES=\"\"\n",
    "!echo \"cuda visible devices = '\"$CUDA_VISIBLE_DEVICES\"'\""
   ]
  },
  {
   "cell_type": "code",
   "execution_count": 2,
   "metadata": {},
   "outputs": [
    {
     "name": "stderr",
     "output_type": "stream",
     "text": [
      "2019-01-22 06:59:06.203 INFO in 'deeppavlov.dataset_readers.dstc2_reader'['dstc2_reader'] at line 113: [loading dialogs from tmp/my_download_of_dstc2/dstc2-trn.jsonlist]\n",
      "2019-01-22 06:59:06.470 INFO in 'deeppavlov.dataset_readers.dstc2_reader'['dstc2_reader'] at line 113: [loading dialogs from tmp/my_download_of_dstc2/dstc2-val.jsonlist]\n",
      "2019-01-22 06:59:06.632 INFO in 'deeppavlov.dataset_readers.dstc2_reader'['dstc2_reader'] at line 113: [loading dialogs from tmp/my_download_of_dstc2/dstc2-tst.jsonlist]\n"
     ]
    }
   ],
   "source": [
    "data = DSTC2DatasetReader().read(data_path=\"tmp/my_download_of_dstc2\")"
   ]
  },
  {
   "cell_type": "code",
   "execution_count": 3,
   "metadata": {},
   "outputs": [],
   "source": [
    "batches_generator = DialogDatasetIterator(data, seed=1443, shuffle=True)\\\n",
    "                                         .gen_batches(batch_size=4, data_type='train')"
   ]
  },
  {
   "cell_type": "code",
   "execution_count": 4,
   "metadata": {},
   "outputs": [],
   "source": [
    "batch = batches_generator.__next__()"
   ]
  },
  {
   "cell_type": "code",
   "execution_count": 5,
   "metadata": {},
   "outputs": [],
   "source": [
    "x_batch, y_batch = batch"
   ]
  },
  {
   "cell_type": "code",
   "execution_count": 6,
   "metadata": {},
   "outputs": [
    {
     "name": "stdout",
     "output_type": "stream",
     "text": [
      "----0th turn----\n",
      "(       {'intents': [], 'prev_resp_act': None, 'text': ''},\n",
      "        {       'act': 'welcomemsg',\n",
      "                'text': 'Hello, welcome to the Cambridge restaurant system. '\n",
      "                        'You can ask for restaurants by area, price range or '\n",
      "                        'food type. How may I help you?'})\n"
     ]
    }
   ],
   "source": [
    "dialog_id = 0\n",
    "dialog = [(x, y) for x, y in zip(x_batch[dialog_id], y_batch[dialog_id])]\n",
    "\n",
    "turn_id = 0\n",
    "print(\"----{}th turn----\".format(turn_id)) \n",
    "pprint(dialog[turn_id], indent=8)"
   ]
  },
  {
   "cell_type": "code",
   "execution_count": 7,
   "metadata": {},
   "outputs": [
    {
     "name": "stdout",
     "output_type": "stream",
     "text": [
      ":: \n",
      ">> Hello, welcome to the Cambridge restaurant system. You can ask for restaurants by area, price range or food type. How may I help you? \n",
      "\n",
      ":: traditional\n",
      ">> api_call area=\"dontcare\" food=\"traditional\" pricerange=\"dontcare\" \n",
      "\n",
      ":: traditional\n",
      ">> I am sorry but there is no traditional restaurant that matches your request. \n",
      "\n",
      ":: italian food\n",
      ">> What part of town do you have in mind? \n",
      "\n",
      ":: south\n",
      ">> api_call area=\"south\" food=\"italian\" pricerange=\"dontcare\" \n",
      "\n",
      ":: south\n",
      ">> Pizza hut cherry hinton is a nice place in the south of town serving tasty italian food. \n",
      "\n",
      ":: phone number\n",
      ">> The phone number of pizza hut cherry hinton is 01223 323737. \n",
      "\n",
      ":: post code\n",
      ">> The post code of pizza hut cherry hinton is C.B 1, 7 D.Y. \n",
      "\n",
      ":: thank you good bye\n",
      ">> You are welcome! \n",
      "\n"
     ]
    }
   ],
   "source": [
    "for turn in dialog:\n",
    "    x, y = turn\n",
    "    print('::', x['text']) \n",
    "    print('>>', y['text'], '\\n')"
   ]
  },
  {
   "cell_type": "code",
   "execution_count": 8,
   "metadata": {},
   "outputs": [],
   "source": [
    "vocab_config = {}"
   ]
  },
  {
   "cell_type": "code",
   "execution_count": 9,
   "metadata": {},
   "outputs": [],
   "source": [
    "dstc2_reader_comp_config = {\n",
    "    'class_name': 'dstc2_reader',\n",
    "    'data_path': 'dstc2'\n",
    "}\n",
    "vocab_config['dataset_reader'] = dstc2_reader_comp_config"
   ]
  },
  {
   "cell_type": "code",
   "execution_count": 10,
   "metadata": {},
   "outputs": [],
   "source": [
    "dialog_iterator_comp_config = {\n",
    "    'class_name': 'dialog_iterator'\n",
    "}\n",
    "vocab_config['dataset_iterator'] = dialog_iterator_comp_config"
   ]
  },
  {
   "cell_type": "code",
   "execution_count": 11,
   "metadata": {},
   "outputs": [],
   "source": [
    "dstc2_download_config = {\n",
    "    'url': 'http://files.deeppavlov.ai/datasets/dstc2_v2.tar.gz',\n",
    "    'subdir': 'dstc2'\n",
    "}\n",
    "vocab_config['metadata'] = {}\n",
    "vocab_config['metadata']['download'] = [\n",
    "    dstc2_download_config\n",
    "]"
   ]
  },
  {
   "cell_type": "code",
   "execution_count": 12,
   "metadata": {},
   "outputs": [],
   "source": [
    "vocab_config['train'] = {\n",
    "    'validate_best': False,\n",
    "    'test_best': False\n",
    "}\n",
    "vocab_config['chainer'] = {}\n",
    "vocab_config['chainer']['in'] = ['utterance']\n",
    "vocab_config['chainer']['in_y'] = []\n",
    "vocab_config['chainer']['out'] = []"
   ]
  },
  {
   "cell_type": "code",
   "execution_count": 13,
   "metadata": {},
   "outputs": [],
   "source": [
    "vocab_comp_config = {\n",
    "    'class_name': 'default_vocab',\n",
    "    'save_path': 'vocabs/token.dict',\n",
    "    'load_path': 'vocabs/token.dict',\n",
    "    'fit_on': ['utterance'],\n",
    "    'level': 'token',\n",
    "    'tokenizer': {\n",
    "        'class_name': 'split_tokenizer'\n",
    "    },\n",
    "\n",
    "}\n",
    "vocab_config['chainer']['pipe'] = [\n",
    "    vocab_comp_config\n",
    "]"
   ]
  },
  {
   "cell_type": "code",
   "execution_count": 14,
   "metadata": {},
   "outputs": [
    {
     "name": "stderr",
     "output_type": "stream",
     "text": [
      "2019-01-22 06:59:08.35 DEBUG in 'urllib3.connectionpool'['connectionpool'] at line 205: Starting new HTTP connection (1): files.deeppavlov.ai:80\n",
      "2019-01-22 06:59:08.587 DEBUG in 'urllib3.connectionpool'['connectionpool'] at line 393: http://files.deeppavlov.ai:80 \"GET /datasets/dstc2_v2.tar.gz.md5 HTTP/1.1\" 200 260\n",
      "2019-01-22 06:59:08.611 INFO in 'deeppavlov.download'['download'] at line 115: Skipped http://files.deeppavlov.ai/datasets/dstc2_v2.tar.gz download because of matching hashes\n"
     ]
    }
   ],
   "source": [
    "deep_download(vocab_config)"
   ]
  },
  {
   "cell_type": "code",
   "execution_count": 15,
   "metadata": {},
   "outputs": [],
   "source": [
    "dstc2_path = './dstc2'"
   ]
  },
  {
   "cell_type": "code",
   "execution_count": 16,
   "metadata": {},
   "outputs": [
    {
     "name": "stderr",
     "output_type": "stream",
     "text": [
      "2019-01-22 06:59:08.627 INFO in 'deeppavlov.dataset_readers.dstc2_reader'['dstc2_reader'] at line 113: [loading dialogs from /Users/maxtran/Desktop/CitrusBerry/Personal_Chatbot/dstc2/dstc2-trn.jsonlist]\n",
      "2019-01-22 06:59:08.935 INFO in 'deeppavlov.dataset_readers.dstc2_reader'['dstc2_reader'] at line 113: [loading dialogs from /Users/maxtran/Desktop/CitrusBerry/Personal_Chatbot/dstc2/dstc2-val.jsonlist]\n",
      "2019-01-22 06:59:09.188 INFO in 'deeppavlov.dataset_readers.dstc2_reader'['dstc2_reader'] at line 113: [loading dialogs from /Users/maxtran/Desktop/CitrusBerry/Personal_Chatbot/dstc2/dstc2-tst.jsonlist]\n",
      "[nltk_data] Downloading package punkt to /Users/maxtran/nltk_data...\n",
      "[nltk_data]   Package punkt is already up-to-date!\n",
      "[nltk_data] Downloading package stopwords to\n",
      "[nltk_data]     /Users/maxtran/nltk_data...\n",
      "[nltk_data]   Package stopwords is already up-to-date!\n",
      "[nltk_data] Downloading package perluniprops to\n",
      "[nltk_data]     /Users/maxtran/nltk_data...\n",
      "[nltk_data]   Package perluniprops is already up-to-date!\n",
      "[nltk_data] Downloading package nonbreaking_prefixes to\n",
      "[nltk_data]     /Users/maxtran/nltk_data...\n",
      "[nltk_data]   Package nonbreaking_prefixes is already up-to-date!\n",
      "2019-01-22 06:59:10.330 INFO in 'deeppavlov.core.data.vocab'['vocab'] at line 175: [loading vocabulary from /Users/maxtran/Desktop/CitrusBerry/Personal_Chatbot/vocabs/token.dict]\n",
      "2019-01-22 06:59:10.357 INFO in 'deeppavlov.core.data.vocab'['vocab'] at line 163: [saving vocabulary to /Users/maxtran/Desktop/CitrusBerry/Personal_Chatbot/vocabs/token.dict]\n",
      "2019-01-22 06:59:10.359 INFO in 'deeppavlov.core.data.vocab'['vocab'] at line 175: [loading vocabulary from /Users/maxtran/Desktop/CitrusBerry/Personal_Chatbot/vocabs/token.dict]\n"
     ]
    },
    {
     "data": {
      "text/plain": [
       "<deeppavlov.core.common.chainer.Chainer at 0x1056e0dd8>"
      ]
     },
     "execution_count": 16,
     "metadata": {},
     "output_type": "execute_result"
    }
   ],
   "source": [
    "from deeppavlov import train_model\n",
    "\n",
    "train_model(vocab_config)"
   ]
  },
  {
   "cell_type": "code",
   "execution_count": 17,
   "metadata": {},
   "outputs": [],
   "source": [
    "vocabs_path = './vocabs'"
   ]
  },
  {
   "cell_type": "code",
   "execution_count": 18,
   "metadata": {},
   "outputs": [],
   "source": [
    "vocab_comp_config['in'] = ['utterance']\n",
    "vocab_comp_config['out'] = ['utterance_token_indices']\n",
    "\n",
    "vocab_config['chainer']['pipe'] = [\n",
    "    vocab_comp_config\n",
    "]\n",
    "vocab_config['chainer']['out'] = ['utterance_token_indices']"
   ]
  },
  {
   "cell_type": "code",
   "execution_count": 19,
   "metadata": {},
   "outputs": [
    {
     "name": "stderr",
     "output_type": "stream",
     "text": [
      "2019-01-22 06:59:11.875 INFO in 'deeppavlov.core.data.vocab'['vocab'] at line 175: [loading vocabulary from /Users/maxtran/Desktop/CitrusBerry/Personal_Chatbot/vocabs/token.dict]\n"
     ]
    }
   ],
   "source": [
    "model = build_model(vocab_config)"
   ]
  },
  {
   "cell_type": "code",
   "execution_count": 20,
   "metadata": {},
   "outputs": [],
   "source": [
    "simple_config = {}\n",
    "\n",
    "simple_config['dataset_reader'] = dstc2_reader_comp_config\n",
    "simple_config['dataset_iterator'] = dialog_iterator_comp_config\n",
    "simple_config['metadata'] = {}\n",
    "simple_config['metadata']['download'] = [\n",
    "    dstc2_download_config\n",
    "]\n",
    "simple_config['chainer'] = {}\n",
    "simple_config['chainer']['in'] = ['x']\n",
    "simple_config['chainer']['in_y'] =['y']\n",
    "simple_config['chainer']['out'] = ['y_predicted']\n",
    "vocab_comp_config = {\n",
    "    'class_name': 'default_vocab',\n",
    "    'id': 'token_vocab',\n",
    "    'load_path': 'vocabs/token.dict',\n",
    "    'save_path': 'vocabs/token.dict',\n",
    "    'fit_on': ['x'],\n",
    "    'level': 'token',\n",
    "    'tokenizer': {\n",
    "        'class_name': 'split_tokenizer'\n",
    "    }\n",
    "}\n",
    "simple_config['chainer']['pipe'] = []\n",
    "simple_config['chainer']['pipe'].append(vocab_comp_config)"
   ]
  },
  {
   "cell_type": "code",
   "execution_count": 21,
   "metadata": {},
   "outputs": [],
   "source": [
    "bot_comp_config = {\n",
    "    'class_name': 'go_bot',\n",
    "    'in': ['x'],\n",
    "    'in_y': ['y'],\n",
    "    'out': ['y_predicted'],\n",
    "    'load_path': 'gobot_dstc2_simple/model',\n",
    "    'save_path': 'gobot_dstc2_simple/model',\n",
    "    'word_vocab': None,\n",
    "    'bow_embedder': None,\n",
    "    'embedder': None,\n",
    "    'slot_filler': None,\n",
    "    'template_path': 'dstc2/dstc2-templates.txt',\n",
    "    'template_type': 'DualTemplate',\n",
    "    'database': None,\n",
    "    'api_call_action': 'api_call',\n",
    "    'network_parameters': {\n",
    "      'dense_size': 64,\n",
    "      'hidden_size': 128,\n",
    "      'learning_rate': 0.002,\n",
    "      'attention_mechanism': None\n",
    "    },\n",
    "    'tokenizer': {\n",
    "        'class_name': 'stream_spacy_tokenizer',\n",
    "        'lowercase': False\n",
    "    },\n",
    "    'tracker': {\n",
    "        'class_name': 'featurized_tracker',\n",
    "        'slot_names': ['pricerange', 'this', 'area', 'food', 'name']\n",
    "    },\n",
    "    'main': True,\n",
    "    'debug': False\n",
    "}\n",
    "bot_comp_config['word_vocab'] = '#token_vocab'\n",
    "bot_comp_config['bow_embedder'] = {\n",
    "    \"class_name\": \"bow\",\n",
    "    \"depth\": \"#token_vocab.__len__()\", # here we referenced __len__() method of token_vocab component\n",
    "    \"with_counts\": True\n",
    "}"
   ]
  },
  {
   "cell_type": "code",
   "execution_count": 22,
   "metadata": {},
   "outputs": [],
   "source": [
    "from deeppavlov import configs\n"
   ]
  },
  {
   "cell_type": "code",
   "execution_count": 23,
   "metadata": {},
   "outputs": [],
   "source": [
    "slot_filler_comp_config = {\n",
    "    'config_path': configs.ner.slotfill_dstc2\n",
    "}\n",
    "bot_comp_config['slot_filler'] = slot_filler_comp_config\n",
    "\n",
    "simple_config['chainer']['pipe'].append(bot_comp_config)\n",
    "simple_bot_train_config = {\n",
    "    'batch_size': 4,\n",
    "    'epochs': 10,\n",
    "    'log_every_n_batches': -1,\n",
    "    'log_every_n_epochs': 1,\n",
    "    'metrics': ['per_item_dialog_accuracy'],\n",
    "    'val_every_n_epochs': 1,\n",
    "    'validation_patience': 20,\n",
    "    'validate_best': False,\n",
    "    'test_best': False\n",
    "}\n",
    "simple_config['train'] = simple_bot_train_config"
   ]
  },
  {
   "cell_type": "code",
   "execution_count": 24,
   "metadata": {},
   "outputs": [
    {
     "name": "stderr",
     "output_type": "stream",
     "text": [
      "2019-01-22 06:59:25.779 DEBUG in 'urllib3.connectionpool'['connectionpool'] at line 205: Starting new HTTP connection (1): files.deeppavlov.ai:80\n",
      "2019-01-22 06:59:26.302 DEBUG in 'urllib3.connectionpool'['connectionpool'] at line 393: http://files.deeppavlov.ai:80 \"GET /deeppavlov_data/slotfill_dstc2.tar.gz.md5 HTTP/1.1\" 200 442\n",
      "2019-01-22 06:59:26.313 INFO in 'deeppavlov.download'['download'] at line 115: Skipped http://files.deeppavlov.ai/deeppavlov_data/slotfill_dstc2.tar.gz download because of matching hashes\n"
     ]
    }
   ],
   "source": [
    "deep_download(slot_filler_comp_config['config_path'])"
   ]
  },
  {
   "cell_type": "code",
   "execution_count": 25,
   "metadata": {},
   "outputs": [
    {
     "name": "stderr",
     "output_type": "stream",
     "text": [
      "2019-01-22 06:59:30.967 INFO in 'deeppavlov.dataset_readers.dstc2_reader'['dstc2_reader'] at line 113: [loading dialogs from /Users/maxtran/Desktop/CitrusBerry/Personal_Chatbot/dstc2/dstc2-trn.jsonlist]\n",
      "2019-01-22 06:59:31.342 INFO in 'deeppavlov.dataset_readers.dstc2_reader'['dstc2_reader'] at line 113: [loading dialogs from /Users/maxtran/Desktop/CitrusBerry/Personal_Chatbot/dstc2/dstc2-val.jsonlist]\n",
      "2019-01-22 06:59:31.467 INFO in 'deeppavlov.dataset_readers.dstc2_reader'['dstc2_reader'] at line 113: [loading dialogs from /Users/maxtran/Desktop/CitrusBerry/Personal_Chatbot/dstc2/dstc2-tst.jsonlist]\n",
      "2019-01-22 06:59:31.835 INFO in 'deeppavlov.core.data.vocab'['vocab'] at line 175: [loading vocabulary from /Users/maxtran/Desktop/CitrusBerry/Personal_Chatbot/vocabs/token.dict]\n",
      "2019-01-22 06:59:31.862 INFO in 'deeppavlov.core.data.vocab'['vocab'] at line 163: [saving vocabulary to /Users/maxtran/Desktop/CitrusBerry/Personal_Chatbot/vocabs/token.dict]\n",
      "2019-01-22 06:59:38.697 INFO in 'deeppavlov.core.data.simple_vocab'['simple_vocab'] at line 103: [loading vocabulary from /Users/maxtran/.deeppavlov/models/slotfill_dstc2/word.dict]\n",
      "2019-01-22 06:59:38.701 INFO in 'deeppavlov.core.data.simple_vocab'['simple_vocab'] at line 103: [loading vocabulary from /Users/maxtran/.deeppavlov/models/slotfill_dstc2/tag.dict]\n",
      "Using TensorFlow backend.\n",
      "2019-01-22 06:59:39.22 WARNING in 'tensorflow'['tf_logging'] at line 125: From /anaconda3/envs/venv/lib/python3.6/site-packages/deeppavlov/models/ner/network.py:260: softmax_cross_entropy_with_logits (from tensorflow.python.ops.nn_ops) is deprecated and will be removed in a future version.\n",
      "Instructions for updating:\n",
      "\n",
      "Future major versions of TensorFlow will allow gradients to flow\n",
      "into the labels input on backprop by default.\n",
      "\n",
      "See `tf.nn.softmax_cross_entropy_with_logits_v2`.\n",
      "\n",
      "2019-01-22 06:59:39.760 INFO in 'deeppavlov.core.models.tf_model'['tf_model'] at line 47: [loading model from /Users/maxtran/.deeppavlov/models/slotfill_dstc2/model]\n",
      "2019-01-22 06:59:39.782 INFO in 'tensorflow'['tf_logging'] at line 115: Restoring parameters from /Users/maxtran/.deeppavlov/models/slotfill_dstc2/model\n",
      "/anaconda3/envs/venv/lib/python3.6/site-packages/fuzzywuzzy/fuzz.py:35: UserWarning: Using slow pure-python SequenceMatcher. Install python-Levenshtein to remove this warning\n",
      "  warnings.warn('Using slow pure-python SequenceMatcher. Install python-Levenshtein to remove this warning')\n",
      "2019-01-22 06:59:40.660 INFO in 'deeppavlov.models.go_bot.network'['network'] at line 160: [loading templates from /Users/maxtran/Desktop/CitrusBerry/Personal_Chatbot/dstc2/dstc2-templates.txt]\n",
      "2019-01-22 06:59:40.661 INFO in 'deeppavlov.models.go_bot.network'['network'] at line 163: 46 templates loaded\n",
      "2019-01-22 06:59:40.662 INFO in 'deeppavlov.models.go_bot.network'['network'] at line 202: Calculated input size for `GoalOrientedBotNetwork` is 511\n",
      "2019-01-22 06:59:41.414 INFO in 'deeppavlov.models.go_bot.network'['network'] at line 243: [initializing `GoalOrientedBot` from scratch]\n",
      "2019-01-22 07:00:54.377 INFO in 'deeppavlov.core.commands.train'['train'] at line 386: New best per_item_dialog_accuracy of 0.0213\n",
      "2019-01-22 07:00:54.378 INFO in 'deeppavlov.core.commands.train'['train'] at line 388: Saving model\n",
      "2019-01-22 07:00:54.379 INFO in 'deeppavlov.core.models.tf_model'['tf_model'] at line 71: [saving model to /Users/maxtran/Desktop/CitrusBerry/Personal_Chatbot/gobot_dstc2_simple/model]\n",
      "2019-01-22 07:00:54.527 INFO in 'deeppavlov.models.go_bot.network'['network'] at line 708: [saving parameters to /Users/maxtran/Desktop/CitrusBerry/Personal_Chatbot/gobot_dstc2_simple/model.json]\n"
     ]
    },
    {
     "name": "stdout",
     "output_type": "stream",
     "text": [
      "{\"valid\": {\"eval_examples_count\": 575, \"metrics\": {\"per_item_dialog_accuracy\": 0.0213}, \"time_spent\": \"0:01:13\", \"epochs_done\": 0, \"batches_seen\": 0, \"train_examples_seen\": 0, \"impatience\": 0, \"patience_limit\": 20}}\n",
      "{\"train\": {\"epochs_done\": 1, \"batches_seen\": 242, \"train_examples_seen\": 967, \"metrics\": {\"per_item_dialog_accuracy\": 0.406}, \"time_spent\": \"0:04:34\", \"loss\": 1.092983921574167, \"learning_rate\": 0.002, \"momentum\": 0.9}}\n"
     ]
    },
    {
     "name": "stderr",
     "output_type": "stream",
     "text": [
      "2019-01-22 07:05:23.178 INFO in 'deeppavlov.core.commands.train'['train'] at line 608: New best per_item_dialog_accuracy of 0.4285\n",
      "2019-01-22 07:05:23.179 INFO in 'deeppavlov.core.commands.train'['train'] at line 610: Saving model\n",
      "2019-01-22 07:05:23.180 INFO in 'deeppavlov.core.models.tf_model'['tf_model'] at line 71: [saving model to /Users/maxtran/Desktop/CitrusBerry/Personal_Chatbot/gobot_dstc2_simple/model]\n",
      "2019-01-22 07:05:23.319 INFO in 'deeppavlov.models.go_bot.network'['network'] at line 708: [saving parameters to /Users/maxtran/Desktop/CitrusBerry/Personal_Chatbot/gobot_dstc2_simple/model.json]\n"
     ]
    },
    {
     "name": "stdout",
     "output_type": "stream",
     "text": [
      "{\"valid\": {\"eval_examples_count\": 575, \"metrics\": {\"per_item_dialog_accuracy\": 0.4285}, \"time_spent\": \"0:05:42\", \"epochs_done\": 1, \"batches_seen\": 242, \"train_examples_seen\": 967, \"impatience\": 0, \"patience_limit\": 20}}\n",
      "{\"train\": {\"epochs_done\": 2, \"batches_seen\": 484, \"train_examples_seen\": 1934, \"metrics\": {\"per_item_dialog_accuracy\": 0.5435}, \"time_spent\": \"0:09:05\", \"loss\": 0.5504564134296307, \"learning_rate\": 0.002, \"momentum\": 0.9}}\n"
     ]
    },
    {
     "name": "stderr",
     "output_type": "stream",
     "text": [
      "2019-01-22 07:09:53.629 INFO in 'deeppavlov.core.commands.train'['train'] at line 608: New best per_item_dialog_accuracy of 0.4426\n",
      "2019-01-22 07:09:53.630 INFO in 'deeppavlov.core.commands.train'['train'] at line 610: Saving model\n",
      "2019-01-22 07:09:53.631 INFO in 'deeppavlov.core.models.tf_model'['tf_model'] at line 71: [saving model to /Users/maxtran/Desktop/CitrusBerry/Personal_Chatbot/gobot_dstc2_simple/model]\n",
      "2019-01-22 07:09:53.768 INFO in 'deeppavlov.models.go_bot.network'['network'] at line 708: [saving parameters to /Users/maxtran/Desktop/CitrusBerry/Personal_Chatbot/gobot_dstc2_simple/model.json]\n"
     ]
    },
    {
     "name": "stdout",
     "output_type": "stream",
     "text": [
      "{\"valid\": {\"eval_examples_count\": 575, \"metrics\": {\"per_item_dialog_accuracy\": 0.4426}, \"time_spent\": \"0:10:13\", \"epochs_done\": 2, \"batches_seen\": 484, \"train_examples_seen\": 1934, \"impatience\": 0, \"patience_limit\": 20}}\n",
      "{\"train\": {\"epochs_done\": 3, \"batches_seen\": 726, \"train_examples_seen\": 2901, \"metrics\": {\"per_item_dialog_accuracy\": 0.5797}, \"time_spent\": \"0:13:32\", \"loss\": 0.46243894457324475, \"learning_rate\": 0.002, \"momentum\": 0.9}}\n"
     ]
    },
    {
     "name": "stderr",
     "output_type": "stream",
     "text": [
      "2019-01-22 07:14:20.400 INFO in 'deeppavlov.core.commands.train'['train'] at line 608: New best per_item_dialog_accuracy of 0.4519\n",
      "2019-01-22 07:14:20.400 INFO in 'deeppavlov.core.commands.train'['train'] at line 610: Saving model\n",
      "2019-01-22 07:14:20.401 INFO in 'deeppavlov.core.models.tf_model'['tf_model'] at line 71: [saving model to /Users/maxtran/Desktop/CitrusBerry/Personal_Chatbot/gobot_dstc2_simple/model]\n",
      "2019-01-22 07:14:20.541 INFO in 'deeppavlov.models.go_bot.network'['network'] at line 708: [saving parameters to /Users/maxtran/Desktop/CitrusBerry/Personal_Chatbot/gobot_dstc2_simple/model.json]\n"
     ]
    },
    {
     "name": "stdout",
     "output_type": "stream",
     "text": [
      "{\"valid\": {\"eval_examples_count\": 575, \"metrics\": {\"per_item_dialog_accuracy\": 0.4519}, \"time_spent\": \"0:14:39\", \"epochs_done\": 3, \"batches_seen\": 726, \"train_examples_seen\": 2901, \"impatience\": 0, \"patience_limit\": 20}}\n",
      "{\"train\": {\"epochs_done\": 4, \"batches_seen\": 968, \"train_examples_seen\": 3868, \"metrics\": {\"per_item_dialog_accuracy\": 0.5914}, \"time_spent\": \"0:18:02\", \"loss\": 0.40684672783721576, \"learning_rate\": 0.002, \"momentum\": 0.9}}\n"
     ]
    },
    {
     "name": "stderr",
     "output_type": "stream",
     "text": [
      "2019-01-22 07:18:52.945 INFO in 'deeppavlov.core.commands.train'['train'] at line 608: New best per_item_dialog_accuracy of 0.4649\n",
      "2019-01-22 07:18:52.946 INFO in 'deeppavlov.core.commands.train'['train'] at line 610: Saving model\n",
      "2019-01-22 07:18:52.947 INFO in 'deeppavlov.core.models.tf_model'['tf_model'] at line 71: [saving model to /Users/maxtran/Desktop/CitrusBerry/Personal_Chatbot/gobot_dstc2_simple/model]\n",
      "2019-01-22 07:18:53.89 INFO in 'deeppavlov.models.go_bot.network'['network'] at line 708: [saving parameters to /Users/maxtran/Desktop/CitrusBerry/Personal_Chatbot/gobot_dstc2_simple/model.json]\n"
     ]
    },
    {
     "name": "stdout",
     "output_type": "stream",
     "text": [
      "{\"valid\": {\"eval_examples_count\": 575, \"metrics\": {\"per_item_dialog_accuracy\": 0.4649}, \"time_spent\": \"0:19:12\", \"epochs_done\": 4, \"batches_seen\": 968, \"train_examples_seen\": 3868, \"impatience\": 0, \"patience_limit\": 20}}\n",
      "{\"train\": {\"epochs_done\": 5, \"batches_seen\": 1210, \"train_examples_seen\": 4835, \"metrics\": {\"per_item_dialog_accuracy\": 0.5996}, \"time_spent\": \"0:22:46\", \"loss\": 0.3754745650697838, \"learning_rate\": 0.002, \"momentum\": 0.9}}\n"
     ]
    },
    {
     "name": "stderr",
     "output_type": "stream",
     "text": [
      "2019-01-22 07:23:41.736 INFO in 'deeppavlov.core.commands.train'['train'] at line 615: Did not improve on the per_item_dialog_accuracy of 0.4649\n"
     ]
    },
    {
     "name": "stdout",
     "output_type": "stream",
     "text": [
      "{\"valid\": {\"eval_examples_count\": 575, \"metrics\": {\"per_item_dialog_accuracy\": 0.4584}, \"time_spent\": \"0:24:01\", \"epochs_done\": 5, \"batches_seen\": 1210, \"train_examples_seen\": 4835, \"impatience\": 1, \"patience_limit\": 20}}\n",
      "{\"train\": {\"epochs_done\": 6, \"batches_seen\": 1452, \"train_examples_seen\": 5802, \"metrics\": {\"per_item_dialog_accuracy\": 0.6069}, \"time_spent\": \"0:27:29\", \"loss\": 0.34276265881894047, \"learning_rate\": 0.002, \"momentum\": 0.9}}\n"
     ]
    },
    {
     "name": "stderr",
     "output_type": "stream",
     "text": [
      "2019-01-22 07:28:23.885 INFO in 'deeppavlov.core.commands.train'['train'] at line 615: Did not improve on the per_item_dialog_accuracy of 0.4649\n"
     ]
    },
    {
     "name": "stdout",
     "output_type": "stream",
     "text": [
      "{\"valid\": {\"eval_examples_count\": 575, \"metrics\": {\"per_item_dialog_accuracy\": 0.459}, \"time_spent\": \"0:28:43\", \"epochs_done\": 6, \"batches_seen\": 1452, \"train_examples_seen\": 5802, \"impatience\": 2, \"patience_limit\": 20}}\n",
      "{\"train\": {\"epochs_done\": 7, \"batches_seen\": 1694, \"train_examples_seen\": 6769, \"metrics\": {\"per_item_dialog_accuracy\": 0.6113}, \"time_spent\": \"0:32:16\", \"loss\": 0.32660646320990294, \"learning_rate\": 0.002, \"momentum\": 0.9}}\n"
     ]
    },
    {
     "name": "stderr",
     "output_type": "stream",
     "text": [
      "2019-01-22 07:33:08.609 INFO in 'deeppavlov.core.commands.train'['train'] at line 615: Did not improve on the per_item_dialog_accuracy of 0.4649\n"
     ]
    },
    {
     "name": "stdout",
     "output_type": "stream",
     "text": [
      "{\"valid\": {\"eval_examples_count\": 575, \"metrics\": {\"per_item_dialog_accuracy\": 0.4587}, \"time_spent\": \"0:33:28\", \"epochs_done\": 7, \"batches_seen\": 1694, \"train_examples_seen\": 6769, \"impatience\": 3, \"patience_limit\": 20}}\n",
      "{\"train\": {\"epochs_done\": 8, \"batches_seen\": 1936, \"train_examples_seen\": 7736, \"metrics\": {\"per_item_dialog_accuracy\": 0.6136}, \"time_spent\": \"0:37:01\", \"loss\": 0.2936474061763484, \"learning_rate\": 0.002, \"momentum\": 0.9}}\n"
     ]
    },
    {
     "name": "stderr",
     "output_type": "stream",
     "text": [
      "2019-01-22 07:37:54.909 INFO in 'deeppavlov.core.commands.train'['train'] at line 615: Did not improve on the per_item_dialog_accuracy of 0.4649\n"
     ]
    },
    {
     "name": "stdout",
     "output_type": "stream",
     "text": [
      "{\"valid\": {\"eval_examples_count\": 575, \"metrics\": {\"per_item_dialog_accuracy\": 0.4442}, \"time_spent\": \"0:38:14\", \"epochs_done\": 8, \"batches_seen\": 1936, \"train_examples_seen\": 7736, \"impatience\": 4, \"patience_limit\": 20}}\n",
      "{\"train\": {\"epochs_done\": 9, \"batches_seen\": 2178, \"train_examples_seen\": 8703, \"metrics\": {\"per_item_dialog_accuracy\": 0.6197}, \"time_spent\": \"0:41:56\", \"loss\": 0.2724022794176232, \"learning_rate\": 0.002, \"momentum\": 0.9}}\n"
     ]
    },
    {
     "name": "stderr",
     "output_type": "stream",
     "text": [
      "2019-01-22 07:42:49.191 INFO in 'deeppavlov.core.commands.train'['train'] at line 615: Did not improve on the per_item_dialog_accuracy of 0.4649\n"
     ]
    },
    {
     "name": "stdout",
     "output_type": "stream",
     "text": [
      "{\"valid\": {\"eval_examples_count\": 575, \"metrics\": {\"per_item_dialog_accuracy\": 0.454}, \"time_spent\": \"0:43:08\", \"epochs_done\": 9, \"batches_seen\": 2178, \"train_examples_seen\": 8703, \"impatience\": 5, \"patience_limit\": 20}}\n",
      "{\"train\": {\"epochs_done\": 10, \"batches_seen\": 2420, \"train_examples_seen\": 9670, \"metrics\": {\"per_item_dialog_accuracy\": 0.6201}, \"time_spent\": \"0:46:36\", \"loss\": 0.25319721702147613, \"learning_rate\": 0.002, \"momentum\": 0.9}}\n"
     ]
    },
    {
     "name": "stderr",
     "output_type": "stream",
     "text": [
      "2019-01-22 07:47:27.706 INFO in 'deeppavlov.core.commands.train'['train'] at line 608: New best per_item_dialog_accuracy of 0.4715\n",
      "2019-01-22 07:47:27.707 INFO in 'deeppavlov.core.commands.train'['train'] at line 610: Saving model\n",
      "2019-01-22 07:47:27.709 INFO in 'deeppavlov.core.models.tf_model'['tf_model'] at line 71: [saving model to /Users/maxtran/Desktop/CitrusBerry/Personal_Chatbot/gobot_dstc2_simple/model]\n",
      "2019-01-22 07:47:27.866 INFO in 'deeppavlov.models.go_bot.network'['network'] at line 708: [saving parameters to /Users/maxtran/Desktop/CitrusBerry/Personal_Chatbot/gobot_dstc2_simple/model.json]\n",
      "2019-01-22 07:47:27.871 INFO in 'deeppavlov.core.data.vocab'['vocab'] at line 175: [loading vocabulary from /Users/maxtran/Desktop/CitrusBerry/Personal_Chatbot/vocabs/token.dict]\n",
      "2019-01-22 07:47:27.877 INFO in 'deeppavlov.core.data.simple_vocab'['simple_vocab'] at line 103: [loading vocabulary from /Users/maxtran/.deeppavlov/models/slotfill_dstc2/word.dict]\n",
      "2019-01-22 07:47:27.881 INFO in 'deeppavlov.core.data.simple_vocab'['simple_vocab'] at line 103: [loading vocabulary from /Users/maxtran/.deeppavlov/models/slotfill_dstc2/tag.dict]\n"
     ]
    },
    {
     "name": "stdout",
     "output_type": "stream",
     "text": [
      "{\"valid\": {\"eval_examples_count\": 575, \"metrics\": {\"per_item_dialog_accuracy\": 0.4715}, \"time_spent\": \"0:47:47\", \"epochs_done\": 10, \"batches_seen\": 2420, \"train_examples_seen\": 9670, \"impatience\": 0, \"patience_limit\": 20}}\n"
     ]
    },
    {
     "name": "stderr",
     "output_type": "stream",
     "text": [
      "2019-01-22 07:47:28.987 INFO in 'deeppavlov.core.models.tf_model'['tf_model'] at line 47: [loading model from /Users/maxtran/.deeppavlov/models/slotfill_dstc2/model]\n",
      "2019-01-22 07:47:29.10 INFO in 'tensorflow'['tf_logging'] at line 115: Restoring parameters from /Users/maxtran/.deeppavlov/models/slotfill_dstc2/model\n",
      "2019-01-22 07:47:30.81 INFO in 'deeppavlov.models.go_bot.network'['network'] at line 160: [loading templates from /Users/maxtran/Desktop/CitrusBerry/Personal_Chatbot/dstc2/dstc2-templates.txt]\n",
      "2019-01-22 07:47:30.84 INFO in 'deeppavlov.models.go_bot.network'['network'] at line 163: 46 templates loaded\n",
      "2019-01-22 07:47:30.84 INFO in 'deeppavlov.models.go_bot.network'['network'] at line 202: Calculated input size for `GoalOrientedBotNetwork` is 511\n",
      "2019-01-22 07:47:30.844 INFO in 'deeppavlov.models.go_bot.network'['network'] at line 240: [initializing `GoalOrientedBot` from saved]\n",
      "2019-01-22 07:47:30.845 INFO in 'deeppavlov.models.go_bot.network'['network'] at line 714: [loading parameters from /Users/maxtran/Desktop/CitrusBerry/Personal_Chatbot/gobot_dstc2_simple/model.json]\n",
      "2019-01-22 07:47:30.847 INFO in 'deeppavlov.core.models.tf_model'['tf_model'] at line 47: [loading model from /Users/maxtran/Desktop/CitrusBerry/Personal_Chatbot/gobot_dstc2_simple/model]\n",
      "2019-01-22 07:47:30.861 INFO in 'tensorflow'['tf_logging'] at line 115: Restoring parameters from /Users/maxtran/Desktop/CitrusBerry/Personal_Chatbot/gobot_dstc2_simple/model\n"
     ]
    },
    {
     "data": {
      "text/plain": [
       "<deeppavlov.core.common.chainer.Chainer at 0x102c5a1d0>"
      ]
     },
     "execution_count": 25,
     "metadata": {},
     "output_type": "execute_result"
    }
   ],
   "source": [
    "\n",
    "train_model(simple_config)"
   ]
  },
  {
   "cell_type": "code",
   "execution_count": 26,
   "metadata": {},
   "outputs": [
    {
     "name": "stderr",
     "output_type": "stream",
     "text": [
      "2019-01-22 09:22:11.647 INFO in 'deeppavlov.core.data.vocab'['vocab'] at line 175: [loading vocabulary from /Users/maxtran/Desktop/CitrusBerry/Personal_Chatbot/vocabs/token.dict]\n",
      "2019-01-22 09:22:11.659 INFO in 'deeppavlov.core.data.simple_vocab'['simple_vocab'] at line 103: [loading vocabulary from /Users/maxtran/.deeppavlov/models/slotfill_dstc2/word.dict]\n",
      "2019-01-22 09:22:11.665 INFO in 'deeppavlov.core.data.simple_vocab'['simple_vocab'] at line 103: [loading vocabulary from /Users/maxtran/.deeppavlov/models/slotfill_dstc2/tag.dict]\n",
      "2019-01-22 09:22:12.891 INFO in 'deeppavlov.core.models.tf_model'['tf_model'] at line 47: [loading model from /Users/maxtran/.deeppavlov/models/slotfill_dstc2/model]\n",
      "2019-01-22 09:22:12.924 INFO in 'tensorflow'['tf_logging'] at line 115: Restoring parameters from /Users/maxtran/.deeppavlov/models/slotfill_dstc2/model\n",
      "2019-01-22 09:22:13.490 INFO in 'deeppavlov.models.go_bot.network'['network'] at line 160: [loading templates from /Users/maxtran/Desktop/CitrusBerry/Personal_Chatbot/dstc2/dstc2-templates.txt]\n",
      "2019-01-22 09:22:13.492 INFO in 'deeppavlov.models.go_bot.network'['network'] at line 163: 46 templates loaded\n",
      "2019-01-22 09:22:13.493 INFO in 'deeppavlov.models.go_bot.network'['network'] at line 202: Calculated input size for `GoalOrientedBotNetwork` is 511\n",
      "2019-01-22 09:22:15.363 INFO in 'deeppavlov.models.go_bot.network'['network'] at line 240: [initializing `GoalOrientedBot` from saved]\n",
      "2019-01-22 09:22:15.365 INFO in 'deeppavlov.models.go_bot.network'['network'] at line 714: [loading parameters from /Users/maxtran/Desktop/CitrusBerry/Personal_Chatbot/gobot_dstc2_simple/model.json]\n",
      "2019-01-22 09:22:15.367 INFO in 'deeppavlov.core.models.tf_model'['tf_model'] at line 47: [loading model from /Users/maxtran/Desktop/CitrusBerry/Personal_Chatbot/gobot_dstc2_simple/model]\n",
      "2019-01-22 09:22:15.382 INFO in 'tensorflow'['tf_logging'] at line 115: Restoring parameters from /Users/maxtran/Desktop/CitrusBerry/Personal_Chatbot/gobot_dstc2_simple/model\n"
     ]
    }
   ],
   "source": [
    "model = build_model(simple_config)"
   ]
  },
  {
   "cell_type": "code",
   "execution_count": 34,
   "metadata": {},
   "outputs": [],
   "source": [
    "model.reset() "
   ]
  },
  {
   "cell_type": "code",
   "execution_count": 33,
   "metadata": {},
   "outputs": [],
   "source": [
    "db_config = copy.deepcopy(simple_config)\n",
    "\n",
    "db_config['chainer']['pipe'] = []\n",
    "db_comp_config = {\n",
    "    'class_name': 'sqlite_database',\n",
    "    'id': 'restaurant_database', \n",
    "    'save_path': 'dstc2/resto.sqlite',\n",
    "    'primary_keys': ['name'],\n",
    "    'table_name': 'mytable'\n",
    "}\n",
    "db_config['chainer']['pipe'].append(vocab_comp_config)\n",
    "db_config['chainer']['pipe'].append(db_comp_config)\n",
    "bot_with_db_comp_config = copy.deepcopy(bot_comp_config)\n",
    "bot_with_db_comp_config['load_path'] = 'gobot_dstc2_db/model'\n",
    "bot_with_db_comp_config['save_path'] = 'gobot_dstc2_db/model'\n",
    "bot_with_db_comp_config['database'] = '#restaurant_database'\n",
    "db_config['chainer']['pipe'].append(bot_with_db_comp_config)"
   ]
  },
  {
   "cell_type": "code",
   "execution_count": 35,
   "metadata": {},
   "outputs": [
    {
     "name": "stderr",
     "output_type": "stream",
     "text": [
      "2019-01-22 09:25:20.325 INFO in 'deeppavlov.dataset_readers.dstc2_reader'['dstc2_reader'] at line 113: [loading dialogs from /Users/maxtran/Desktop/CitrusBerry/Personal_Chatbot/dstc2/dstc2-trn.jsonlist]\n",
      "2019-01-22 09:25:20.529 INFO in 'deeppavlov.dataset_readers.dstc2_reader'['dstc2_reader'] at line 113: [loading dialogs from /Users/maxtran/Desktop/CitrusBerry/Personal_Chatbot/dstc2/dstc2-val.jsonlist]\n",
      "2019-01-22 09:25:20.657 INFO in 'deeppavlov.dataset_readers.dstc2_reader'['dstc2_reader'] at line 113: [loading dialogs from /Users/maxtran/Desktop/CitrusBerry/Personal_Chatbot/dstc2/dstc2-tst.jsonlist]\n",
      "2019-01-22 09:25:21.136 INFO in 'deeppavlov.core.data.vocab'['vocab'] at line 175: [loading vocabulary from /Users/maxtran/Desktop/CitrusBerry/Personal_Chatbot/vocabs/token.dict]\n",
      "2019-01-22 09:25:21.161 INFO in 'deeppavlov.core.data.vocab'['vocab'] at line 163: [saving vocabulary to /Users/maxtran/Desktop/CitrusBerry/Personal_Chatbot/vocabs/token.dict]\n",
      "2019-01-22 09:25:21.171 WARNING in 'deeppavlov.core.models.serializable'['serializable'] at line 51: No load path is set for Sqlite3Database!\n",
      "2019-01-22 09:25:21.172 INFO in 'deeppavlov.core.data.sqlite_database'['sqlite_database'] at line 63: Loading database from /Users/maxtran/Desktop/CitrusBerry/Personal_Chatbot/dstc2/resto.sqlite.\n",
      "2019-01-22 09:25:21.182 INFO in 'deeppavlov.core.data.simple_vocab'['simple_vocab'] at line 103: [loading vocabulary from /Users/maxtran/.deeppavlov/models/slotfill_dstc2/word.dict]\n",
      "2019-01-22 09:25:21.189 INFO in 'deeppavlov.core.data.simple_vocab'['simple_vocab'] at line 103: [loading vocabulary from /Users/maxtran/.deeppavlov/models/slotfill_dstc2/tag.dict]\n",
      "2019-01-22 09:25:22.483 INFO in 'deeppavlov.core.models.tf_model'['tf_model'] at line 47: [loading model from /Users/maxtran/.deeppavlov/models/slotfill_dstc2/model]\n",
      "2019-01-22 09:25:22.506 INFO in 'tensorflow'['tf_logging'] at line 115: Restoring parameters from /Users/maxtran/.deeppavlov/models/slotfill_dstc2/model\n",
      "2019-01-22 09:25:22.933 INFO in 'deeppavlov.models.go_bot.network'['network'] at line 160: [loading templates from /Users/maxtran/Desktop/CitrusBerry/Personal_Chatbot/dstc2/dstc2-templates.txt]\n",
      "2019-01-22 09:25:22.934 INFO in 'deeppavlov.models.go_bot.network'['network'] at line 163: 46 templates loaded\n",
      "2019-01-22 09:25:22.935 INFO in 'deeppavlov.models.go_bot.network'['network'] at line 202: Calculated input size for `GoalOrientedBotNetwork` is 511\n",
      "2019-01-22 09:25:23.822 INFO in 'deeppavlov.models.go_bot.network'['network'] at line 243: [initializing `GoalOrientedBot` from scratch]\n",
      "2019-01-22 09:26:32.947 INFO in 'deeppavlov.core.commands.train'['train'] at line 386: New best per_item_dialog_accuracy of 0.0034\n",
      "2019-01-22 09:26:32.948 INFO in 'deeppavlov.core.commands.train'['train'] at line 388: Saving model\n",
      "2019-01-22 09:26:32.949 INFO in 'deeppavlov.core.models.tf_model'['tf_model'] at line 71: [saving model to /Users/maxtran/Desktop/CitrusBerry/Personal_Chatbot/gobot_dstc2_db/model]\n",
      "2019-01-22 09:26:33.105 INFO in 'deeppavlov.models.go_bot.network'['network'] at line 708: [saving parameters to /Users/maxtran/Desktop/CitrusBerry/Personal_Chatbot/gobot_dstc2_db/model.json]\n"
     ]
    },
    {
     "name": "stdout",
     "output_type": "stream",
     "text": [
      "{\"valid\": {\"eval_examples_count\": 575, \"metrics\": {\"per_item_dialog_accuracy\": 0.0034}, \"time_spent\": \"0:01:10\", \"epochs_done\": 0, \"batches_seen\": 0, \"train_examples_seen\": 0, \"impatience\": 0, \"patience_limit\": 20}}\n",
      "{\"train\": {\"epochs_done\": 1, \"batches_seen\": 242, \"train_examples_seen\": 967, \"metrics\": {\"per_item_dialog_accuracy\": 0.4009}, \"time_spent\": \"0:04:36\", \"loss\": 1.1325077372641603, \"learning_rate\": 0.002, \"momentum\": 0.9}}\n"
     ]
    },
    {
     "name": "stderr",
     "output_type": "stream",
     "text": [
      "2019-01-22 09:31:08.657 INFO in 'deeppavlov.core.commands.train'['train'] at line 608: New best per_item_dialog_accuracy of 0.4112\n",
      "2019-01-22 09:31:08.658 INFO in 'deeppavlov.core.commands.train'['train'] at line 610: Saving model\n",
      "2019-01-22 09:31:08.661 INFO in 'deeppavlov.core.models.tf_model'['tf_model'] at line 71: [saving model to /Users/maxtran/Desktop/CitrusBerry/Personal_Chatbot/gobot_dstc2_db/model]\n",
      "2019-01-22 09:31:08.810 INFO in 'deeppavlov.models.go_bot.network'['network'] at line 708: [saving parameters to /Users/maxtran/Desktop/CitrusBerry/Personal_Chatbot/gobot_dstc2_db/model.json]\n"
     ]
    },
    {
     "name": "stdout",
     "output_type": "stream",
     "text": [
      "{\"valid\": {\"eval_examples_count\": 575, \"metrics\": {\"per_item_dialog_accuracy\": 0.4112}, \"time_spent\": \"0:05:45\", \"epochs_done\": 1, \"batches_seen\": 242, \"train_examples_seen\": 967, \"impatience\": 0, \"patience_limit\": 20}}\n",
      "{\"train\": {\"epochs_done\": 2, \"batches_seen\": 484, \"train_examples_seen\": 1934, \"metrics\": {\"per_item_dialog_accuracy\": 0.5383}, \"time_spent\": \"0:09:19\", \"loss\": 0.5451136353956766, \"learning_rate\": 0.002, \"momentum\": 0.9}}\n"
     ]
    },
    {
     "name": "stderr",
     "output_type": "stream",
     "text": [
      "2019-01-22 09:35:52.621 INFO in 'deeppavlov.core.commands.train'['train'] at line 608: New best per_item_dialog_accuracy of 0.4455\n",
      "2019-01-22 09:35:52.622 INFO in 'deeppavlov.core.commands.train'['train'] at line 610: Saving model\n",
      "2019-01-22 09:35:52.624 INFO in 'deeppavlov.core.models.tf_model'['tf_model'] at line 71: [saving model to /Users/maxtran/Desktop/CitrusBerry/Personal_Chatbot/gobot_dstc2_db/model]\n",
      "2019-01-22 09:35:52.764 INFO in 'deeppavlov.models.go_bot.network'['network'] at line 708: [saving parameters to /Users/maxtran/Desktop/CitrusBerry/Personal_Chatbot/gobot_dstc2_db/model.json]\n"
     ]
    },
    {
     "name": "stdout",
     "output_type": "stream",
     "text": [
      "{\"valid\": {\"eval_examples_count\": 575, \"metrics\": {\"per_item_dialog_accuracy\": 0.4455}, \"time_spent\": \"0:10:29\", \"epochs_done\": 2, \"batches_seen\": 484, \"train_examples_seen\": 1934, \"impatience\": 0, \"patience_limit\": 20}}\n",
      "{\"train\": {\"epochs_done\": 3, \"batches_seen\": 726, \"train_examples_seen\": 2901, \"metrics\": {\"per_item_dialog_accuracy\": 0.5766}, \"time_spent\": \"0:13:58\", \"loss\": 0.45447576627874176, \"learning_rate\": 0.002, \"momentum\": 0.9}}\n"
     ]
    },
    {
     "name": "stderr",
     "output_type": "stream",
     "text": [
      "2019-01-22 09:40:28.769 INFO in 'deeppavlov.core.commands.train'['train'] at line 608: New best per_item_dialog_accuracy of 0.4548\n",
      "2019-01-22 09:40:28.770 INFO in 'deeppavlov.core.commands.train'['train'] at line 610: Saving model\n",
      "2019-01-22 09:40:28.772 INFO in 'deeppavlov.core.models.tf_model'['tf_model'] at line 71: [saving model to /Users/maxtran/Desktop/CitrusBerry/Personal_Chatbot/gobot_dstc2_db/model]\n",
      "2019-01-22 09:40:28.942 INFO in 'deeppavlov.models.go_bot.network'['network'] at line 708: [saving parameters to /Users/maxtran/Desktop/CitrusBerry/Personal_Chatbot/gobot_dstc2_db/model.json]\n"
     ]
    },
    {
     "name": "stdout",
     "output_type": "stream",
     "text": [
      "{\"valid\": {\"eval_examples_count\": 575, \"metrics\": {\"per_item_dialog_accuracy\": 0.4548}, \"time_spent\": \"0:15:05\", \"epochs_done\": 3, \"batches_seen\": 726, \"train_examples_seen\": 2901, \"impatience\": 0, \"patience_limit\": 20}}\n",
      "{\"train\": {\"epochs_done\": 4, \"batches_seen\": 968, \"train_examples_seen\": 3868, \"metrics\": {\"per_item_dialog_accuracy\": 0.5896}, \"time_spent\": \"0:18:28\", \"loss\": 0.4125805740083052, \"learning_rate\": 0.002, \"momentum\": 0.9}}\n"
     ]
    },
    {
     "name": "stderr",
     "output_type": "stream",
     "text": [
      "2019-01-22 09:44:59.383 INFO in 'deeppavlov.core.commands.train'['train'] at line 608: New best per_item_dialog_accuracy of 0.4733\n",
      "2019-01-22 09:44:59.384 INFO in 'deeppavlov.core.commands.train'['train'] at line 610: Saving model\n",
      "2019-01-22 09:44:59.387 INFO in 'deeppavlov.core.models.tf_model'['tf_model'] at line 71: [saving model to /Users/maxtran/Desktop/CitrusBerry/Personal_Chatbot/gobot_dstc2_db/model]\n",
      "2019-01-22 09:44:59.553 INFO in 'deeppavlov.models.go_bot.network'['network'] at line 708: [saving parameters to /Users/maxtran/Desktop/CitrusBerry/Personal_Chatbot/gobot_dstc2_db/model.json]\n"
     ]
    },
    {
     "name": "stdout",
     "output_type": "stream",
     "text": [
      "{\"valid\": {\"eval_examples_count\": 575, \"metrics\": {\"per_item_dialog_accuracy\": 0.4733}, \"time_spent\": \"0:19:36\", \"epochs_done\": 4, \"batches_seen\": 968, \"train_examples_seen\": 3868, \"impatience\": 0, \"patience_limit\": 20}}\n",
      "{\"train\": {\"epochs_done\": 5, \"batches_seen\": 1210, \"train_examples_seen\": 4835, \"metrics\": {\"per_item_dialog_accuracy\": 0.6059}, \"time_spent\": \"0:22:55\", \"loss\": 0.3772034714044618, \"learning_rate\": 0.002, \"momentum\": 0.9}}\n"
     ]
    },
    {
     "name": "stderr",
     "output_type": "stream",
     "text": [
      "2019-01-22 09:49:24.397 INFO in 'deeppavlov.core.commands.train'['train'] at line 615: Did not improve on the per_item_dialog_accuracy of 0.4733\n"
     ]
    },
    {
     "name": "stdout",
     "output_type": "stream",
     "text": [
      "{\"valid\": {\"eval_examples_count\": 575, \"metrics\": {\"per_item_dialog_accuracy\": 0.4659}, \"time_spent\": \"0:24:01\", \"epochs_done\": 5, \"batches_seen\": 1210, \"train_examples_seen\": 4835, \"impatience\": 1, \"patience_limit\": 20}}\n",
      "{\"train\": {\"epochs_done\": 6, \"batches_seen\": 1452, \"train_examples_seen\": 5802, \"metrics\": {\"per_item_dialog_accuracy\": 0.6088}, \"time_spent\": \"0:27:17\", \"loss\": 0.33897637695936134, \"learning_rate\": 0.002, \"momentum\": 0.9}}\n"
     ]
    },
    {
     "name": "stderr",
     "output_type": "stream",
     "text": [
      "2019-01-22 09:53:48.307 INFO in 'deeppavlov.core.commands.train'['train'] at line 615: Did not improve on the per_item_dialog_accuracy of 0.4733\n"
     ]
    },
    {
     "name": "stdout",
     "output_type": "stream",
     "text": [
      "{\"valid\": {\"eval_examples_count\": 575, \"metrics\": {\"per_item_dialog_accuracy\": 0.4685}, \"time_spent\": \"0:28:25\", \"epochs_done\": 6, \"batches_seen\": 1452, \"train_examples_seen\": 5802, \"impatience\": 2, \"patience_limit\": 20}}\n",
      "{\"train\": {\"epochs_done\": 7, \"batches_seen\": 1694, \"train_examples_seen\": 6769, \"metrics\": {\"per_item_dialog_accuracy\": 0.6172}, \"time_spent\": \"0:31:46\", \"loss\": 0.3119196016957198, \"learning_rate\": 0.002, \"momentum\": 0.9}}\n"
     ]
    },
    {
     "name": "stderr",
     "output_type": "stream",
     "text": [
      "2019-01-22 09:58:26.288 INFO in 'deeppavlov.core.commands.train'['train'] at line 615: Did not improve on the per_item_dialog_accuracy of 0.4733\n"
     ]
    },
    {
     "name": "stdout",
     "output_type": "stream",
     "text": [
      "{\"valid\": {\"eval_examples_count\": 575, \"metrics\": {\"per_item_dialog_accuracy\": 0.4641}, \"time_spent\": \"0:33:03\", \"epochs_done\": 7, \"batches_seen\": 1694, \"train_examples_seen\": 6769, \"impatience\": 3, \"patience_limit\": 20}}\n",
      "{\"train\": {\"epochs_done\": 8, \"batches_seen\": 1936, \"train_examples_seen\": 7736, \"metrics\": {\"per_item_dialog_accuracy\": 0.6204}, \"time_spent\": \"0:36:22\", \"loss\": 0.29438181206091374, \"learning_rate\": 0.002, \"momentum\": 0.9}}\n"
     ]
    },
    {
     "name": "stderr",
     "output_type": "stream",
     "text": [
      "2019-01-22 10:02:53.228 INFO in 'deeppavlov.core.commands.train'['train'] at line 615: Did not improve on the per_item_dialog_accuracy of 0.4733\n"
     ]
    },
    {
     "name": "stdout",
     "output_type": "stream",
     "text": [
      "{\"valid\": {\"eval_examples_count\": 575, \"metrics\": {\"per_item_dialog_accuracy\": 0.4726}, \"time_spent\": \"0:37:30\", \"epochs_done\": 8, \"batches_seen\": 1936, \"train_examples_seen\": 7736, \"impatience\": 4, \"patience_limit\": 20}}\n",
      "{\"train\": {\"epochs_done\": 9, \"batches_seen\": 2178, \"train_examples_seen\": 8703, \"metrics\": {\"per_item_dialog_accuracy\": 0.6244}, \"time_spent\": \"0:40:46\", \"loss\": 0.2724981637102021, \"learning_rate\": 0.002, \"momentum\": 0.9}}\n"
     ]
    },
    {
     "name": "stderr",
     "output_type": "stream",
     "text": [
      "2019-01-22 10:07:18.60 INFO in 'deeppavlov.core.commands.train'['train'] at line 615: Did not improve on the per_item_dialog_accuracy of 0.4733\n"
     ]
    },
    {
     "name": "stdout",
     "output_type": "stream",
     "text": [
      "{\"valid\": {\"eval_examples_count\": 575, \"metrics\": {\"per_item_dialog_accuracy\": 0.4641}, \"time_spent\": \"0:41:55\", \"epochs_done\": 9, \"batches_seen\": 2178, \"train_examples_seen\": 8703, \"impatience\": 5, \"patience_limit\": 20}}\n",
      "{\"train\": {\"epochs_done\": 10, \"batches_seen\": 2420, \"train_examples_seen\": 9670, \"metrics\": {\"per_item_dialog_accuracy\": 0.6284}, \"time_spent\": \"0:45:12\", \"loss\": 0.245588072752657, \"learning_rate\": 0.002, \"momentum\": 0.9}}\n"
     ]
    },
    {
     "name": "stderr",
     "output_type": "stream",
     "text": [
      "2019-01-22 10:11:40.23 INFO in 'deeppavlov.core.commands.train'['train'] at line 608: New best per_item_dialog_accuracy of 0.4799\n",
      "2019-01-22 10:11:40.24 INFO in 'deeppavlov.core.commands.train'['train'] at line 610: Saving model\n",
      "2019-01-22 10:11:40.25 INFO in 'deeppavlov.core.models.tf_model'['tf_model'] at line 71: [saving model to /Users/maxtran/Desktop/CitrusBerry/Personal_Chatbot/gobot_dstc2_db/model]\n",
      "2019-01-22 10:11:40.172 INFO in 'deeppavlov.models.go_bot.network'['network'] at line 708: [saving parameters to /Users/maxtran/Desktop/CitrusBerry/Personal_Chatbot/gobot_dstc2_db/model.json]\n",
      "2019-01-22 10:11:40.222 INFO in 'deeppavlov.core.data.vocab'['vocab'] at line 175: [loading vocabulary from /Users/maxtran/Desktop/CitrusBerry/Personal_Chatbot/vocabs/token.dict]\n",
      "2019-01-22 10:11:40.225 WARNING in 'deeppavlov.core.models.serializable'['serializable'] at line 48: No load path is set for Sqlite3Database in 'infer' mode. Using save path instead\n",
      "2019-01-22 10:11:40.226 INFO in 'deeppavlov.core.data.sqlite_database'['sqlite_database'] at line 63: Loading database from /Users/maxtran/Desktop/CitrusBerry/Personal_Chatbot/dstc2/resto.sqlite.\n",
      "2019-01-22 10:11:40.232 INFO in 'deeppavlov.core.data.simple_vocab'['simple_vocab'] at line 103: [loading vocabulary from /Users/maxtran/.deeppavlov/models/slotfill_dstc2/word.dict]\n",
      "2019-01-22 10:11:40.237 INFO in 'deeppavlov.core.data.simple_vocab'['simple_vocab'] at line 103: [loading vocabulary from /Users/maxtran/.deeppavlov/models/slotfill_dstc2/tag.dict]\n"
     ]
    },
    {
     "name": "stdout",
     "output_type": "stream",
     "text": [
      "{\"valid\": {\"eval_examples_count\": 575, \"metrics\": {\"per_item_dialog_accuracy\": 0.4799}, \"time_spent\": \"0:46:17\", \"epochs_done\": 10, \"batches_seen\": 2420, \"train_examples_seen\": 9670, \"impatience\": 0, \"patience_limit\": 20}}\n"
     ]
    },
    {
     "name": "stderr",
     "output_type": "stream",
     "text": [
      "2019-01-22 10:11:42.220 INFO in 'deeppavlov.core.models.tf_model'['tf_model'] at line 47: [loading model from /Users/maxtran/.deeppavlov/models/slotfill_dstc2/model]\n",
      "2019-01-22 10:11:42.241 INFO in 'tensorflow'['tf_logging'] at line 115: Restoring parameters from /Users/maxtran/.deeppavlov/models/slotfill_dstc2/model\n",
      "2019-01-22 10:11:42.666 INFO in 'deeppavlov.models.go_bot.network'['network'] at line 160: [loading templates from /Users/maxtran/Desktop/CitrusBerry/Personal_Chatbot/dstc2/dstc2-templates.txt]\n",
      "2019-01-22 10:11:42.669 INFO in 'deeppavlov.models.go_bot.network'['network'] at line 163: 46 templates loaded\n",
      "2019-01-22 10:11:42.669 INFO in 'deeppavlov.models.go_bot.network'['network'] at line 202: Calculated input size for `GoalOrientedBotNetwork` is 511\n",
      "2019-01-22 10:11:43.384 INFO in 'deeppavlov.models.go_bot.network'['network'] at line 240: [initializing `GoalOrientedBot` from saved]\n",
      "2019-01-22 10:11:43.385 INFO in 'deeppavlov.models.go_bot.network'['network'] at line 714: [loading parameters from /Users/maxtran/Desktop/CitrusBerry/Personal_Chatbot/gobot_dstc2_db/model.json]\n",
      "2019-01-22 10:11:43.387 INFO in 'deeppavlov.core.models.tf_model'['tf_model'] at line 47: [loading model from /Users/maxtran/Desktop/CitrusBerry/Personal_Chatbot/gobot_dstc2_db/model]\n",
      "2019-01-22 10:11:43.401 INFO in 'tensorflow'['tf_logging'] at line 115: Restoring parameters from /Users/maxtran/Desktop/CitrusBerry/Personal_Chatbot/gobot_dstc2_db/model\n"
     ]
    }
   ],
   "source": [
    "model = train_model(db_config)"
   ]
  },
  {
   "cell_type": "code",
   "execution_count": 38,
   "metadata": {},
   "outputs": [
    {
     "name": "stdout",
     "output_type": "stream",
     "text": [
      ">> Hello, welcome to the Cambridge restaurant system. You can ask for restaurants by area, price range or food type. How may I help you?\n",
      ":: i want an expensive french food\n"
     ]
    },
    {
     "name": "stderr",
     "output_type": "stream",
     "text": [
      "2019-01-22 20:57:59.845 INFO in 'deeppavlov.models.go_bot.network'['network'] at line 472: Made api_call with {'pricerange': 'expensive', 'food': 'french'}, got 2 results.\n"
     ]
    },
    {
     "name": "stdout",
     "output_type": "stream",
     "text": [
      ">> Cote serves french food in the expensive price range.\n",
      ":: phone number?\n",
      ">> The phone number of cote is 01223 311053.\n",
      ":: exit\n"
     ]
    }
   ],
   "source": [
    "model.reset() # starting new dialog\n",
    "\n",
    "utterance = \"\"\n",
    "while utterance != 'exit':\n",
    "    print(\">> \" + model([utterance])[0])\n",
    "    utterance = input(':: ')"
   ]
  },
  {
   "cell_type": "code",
   "execution_count": null,
   "metadata": {},
   "outputs": [],
   "source": []
  }
 ],
 "metadata": {
  "kernelspec": {
   "display_name": "Python 3",
   "language": "python",
   "name": "python3"
  },
  "language_info": {
   "codemirror_mode": {
    "name": "ipython",
    "version": 3
   },
   "file_extension": ".py",
   "mimetype": "text/x-python",
   "name": "python",
   "nbconvert_exporter": "python",
   "pygments_lexer": "ipython3",
   "version": "3.6.7"
  }
 },
 "nbformat": 4,
 "nbformat_minor": 2
}
